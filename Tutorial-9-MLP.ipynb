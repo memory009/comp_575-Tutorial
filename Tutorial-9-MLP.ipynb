{
  "cells": [
    {
      "cell_type": "code",
      "execution_count": null,
      "id": "c1b5e31e",
      "metadata": {
        "id": "c1b5e31e"
      },
      "outputs": [],
      "source": [
        "import tensorflow as tf\n",
        "from tensorflow.keras.datasets import mnist\n",
        "from tensorflow.keras.models import Sequential\n",
        "from tensorflow.keras.layers import Dense\n",
        "from tensorflow.keras.utils import to_categorical\n",
        "import numpy as np\n",
        "from matplotlib import pyplot as plt\n",
        "# from tensorflow.examples.tutorials.mnist import input_data"
      ]
    },
    {
      "cell_type": "markdown",
      "id": "f6adcef6",
      "metadata": {
        "id": "f6adcef6"
      },
      "source": [
        "## Configuration options"
      ]
    },
    {
      "cell_type": "code",
      "execution_count": null,
      "id": "55969028",
      "metadata": {
        "id": "55969028"
      },
      "outputs": [],
      "source": [
        "feature_vector_length = 784\n",
        "num_classes = 10"
      ]
    },
    {
      "cell_type": "markdown",
      "id": "2bbd4827",
      "metadata": {
        "id": "2bbd4827"
      },
      "source": [
        "## Load the data"
      ]
    },
    {
      "cell_type": "code",
      "execution_count": null,
      "id": "67dc6225",
      "metadata": {
        "colab": {
          "base_uri": "https://localhost:8080/"
        },
        "id": "67dc6225",
        "outputId": "4f0a9589-e81e-4e3b-a385-4f8bc044d34a"
      },
      "outputs": [
        {
          "output_type": "stream",
          "name": "stdout",
          "text": [
            "Downloading data from https://storage.googleapis.com/tensorflow/tf-keras-datasets/mnist.npz\n",
            "11490434/11490434 [==============================] - 0s 0us/step\n",
            "60000\n",
            "(10000, 28, 28)\n",
            "(60000,)\n"
          ]
        }
      ],
      "source": [
        "(X_train, Y_train), (X_test, Y_test) = tf.keras.datasets.mnist.load_data()#mnist.load_data()\n",
        "\n",
        "print(len(X_train))\n",
        "print(X_test.shape)\n",
        "print(Y_train.shape)"
      ]
    },
    {
      "cell_type": "markdown",
      "id": "99746648",
      "metadata": {
        "id": "99746648"
      },
      "source": [
        "## Convert into greyscale"
      ]
    },
    {
      "cell_type": "code",
      "execution_count": null,
      "id": "57885135",
      "metadata": {
        "colab": {
          "base_uri": "https://localhost:8080/"
        },
        "id": "57885135",
        "outputId": "e501bbfd-af5c-4a56-8b8d-4ff7c0c51027"
      },
      "outputs": [
        {
          "output_type": "stream",
          "name": "stdout",
          "text": [
            "Original matrix [[  0   0   0   0   0   0   0   0   0   0   0   0   0   0   0   0   0   0\n",
            "    0   0   0   0   0   0   0   0   0   0]\n",
            " [  0   0   0   0   0   0   0   0   0   0   0   0   0   0   0   0   0   0\n",
            "    0   0   0   0   0   0   0   0   0   0]\n",
            " [  0   0   0   0   0   0   0   0   0   0   0   0   0   0   0   0   0   0\n",
            "    0   0   0   0   0   0   0   0   0   0]\n",
            " [  0   0   0   0   0   0   0   0   0   0   0   0   0   0   0   0   0   0\n",
            "    0   0   0   0   0   0   0   0   0   0]\n",
            " [  0   0   0   0   0   0   0   0   0   0   0   0   0   0   0  51 159 253\n",
            "  159  50   0   0   0   0   0   0   0   0]\n",
            " [  0   0   0   0   0   0   0   0   0   0   0   0   0   0  48 238 252 252\n",
            "  252 237   0   0   0   0   0   0   0   0]\n",
            " [  0   0   0   0   0   0   0   0   0   0   0   0   0  54 227 253 252 239\n",
            "  233 252  57   6   0   0   0   0   0   0]\n",
            " [  0   0   0   0   0   0   0   0   0   0   0  10  60 224 252 253 252 202\n",
            "   84 252 253 122   0   0   0   0   0   0]\n",
            " [  0   0   0   0   0   0   0   0   0   0   0 163 252 252 252 253 252 252\n",
            "   96 189 253 167   0   0   0   0   0   0]\n",
            " [  0   0   0   0   0   0   0   0   0   0  51 238 253 253 190 114 253 228\n",
            "   47  79 255 168   0   0   0   0   0   0]\n",
            " [  0   0   0   0   0   0   0   0   0  48 238 252 252 179  12  75 121  21\n",
            "    0   0 253 243  50   0   0   0   0   0]\n",
            " [  0   0   0   0   0   0   0   0  38 165 253 233 208  84   0   0   0   0\n",
            "    0   0 253 252 165   0   0   0   0   0]\n",
            " [  0   0   0   0   0   0   0   7 178 252 240  71  19  28   0   0   0   0\n",
            "    0   0 253 252 195   0   0   0   0   0]\n",
            " [  0   0   0   0   0   0   0  57 252 252  63   0   0   0   0   0   0   0\n",
            "    0   0 253 252 195   0   0   0   0   0]\n",
            " [  0   0   0   0   0   0   0 198 253 190   0   0   0   0   0   0   0   0\n",
            "    0   0 255 253 196   0   0   0   0   0]\n",
            " [  0   0   0   0   0   0  76 246 252 112   0   0   0   0   0   0   0   0\n",
            "    0   0 253 252 148   0   0   0   0   0]\n",
            " [  0   0   0   0   0   0  85 252 230  25   0   0   0   0   0   0   0   0\n",
            "    7 135 253 186  12   0   0   0   0   0]\n",
            " [  0   0   0   0   0   0  85 252 223   0   0   0   0   0   0   0   0   7\n",
            "  131 252 225  71   0   0   0   0   0   0]\n",
            " [  0   0   0   0   0   0  85 252 145   0   0   0   0   0   0   0  48 165\n",
            "  252 173   0   0   0   0   0   0   0   0]\n",
            " [  0   0   0   0   0   0  86 253 225   0   0   0   0   0   0 114 238 253\n",
            "  162   0   0   0   0   0   0   0   0   0]\n",
            " [  0   0   0   0   0   0  85 252 249 146  48  29  85 178 225 253 223 167\n",
            "   56   0   0   0   0   0   0   0   0   0]\n",
            " [  0   0   0   0   0   0  85 252 252 252 229 215 252 252 252 196 130   0\n",
            "    0   0   0   0   0   0   0   0   0   0]\n",
            " [  0   0   0   0   0   0  28 199 252 252 253 252 252 233 145   0   0   0\n",
            "    0   0   0   0   0   0   0   0   0   0]\n",
            " [  0   0   0   0   0   0   0  25 128 252 253 252 141  37   0   0   0   0\n",
            "    0   0   0   0   0   0   0   0   0   0]\n",
            " [  0   0   0   0   0   0   0   0   0   0   0   0   0   0   0   0   0   0\n",
            "    0   0   0   0   0   0   0   0   0   0]\n",
            " [  0   0   0   0   0   0   0   0   0   0   0   0   0   0   0   0   0   0\n",
            "    0   0   0   0   0   0   0   0   0   0]\n",
            " [  0   0   0   0   0   0   0   0   0   0   0   0   0   0   0   0   0   0\n",
            "    0   0   0   0   0   0   0   0   0   0]\n",
            " [  0   0   0   0   0   0   0   0   0   0   0   0   0   0   0   0   0   0\n",
            "    0   0   0   0   0   0   0   0   0   0]]\n",
            "Normalised matrix [[0.         0.         0.         0.         0.         0.\n",
            "  0.         0.         0.         0.         0.         0.\n",
            "  0.         0.         0.         0.         0.         0.\n",
            "  0.         0.         0.         0.         0.         0.\n",
            "  0.         0.         0.         0.        ]\n",
            " [0.         0.         0.         0.         0.         0.\n",
            "  0.         0.         0.         0.         0.         0.\n",
            "  0.         0.         0.         0.         0.         0.\n",
            "  0.         0.         0.         0.         0.         0.\n",
            "  0.         0.         0.         0.        ]\n",
            " [0.         0.         0.         0.         0.         0.\n",
            "  0.         0.         0.         0.         0.         0.\n",
            "  0.         0.         0.         0.         0.         0.\n",
            "  0.         0.         0.         0.         0.         0.\n",
            "  0.         0.         0.         0.        ]\n",
            " [0.         0.         0.         0.         0.         0.\n",
            "  0.         0.         0.         0.         0.         0.\n",
            "  0.         0.         0.         0.         0.         0.\n",
            "  0.         0.         0.         0.         0.         0.\n",
            "  0.         0.         0.         0.        ]\n",
            " [0.         0.         0.         0.         0.         0.\n",
            "  0.         0.         0.         0.         0.         0.\n",
            "  0.         0.         0.         0.2        0.62352943 0.99215686\n",
            "  0.62352943 0.19607843 0.         0.         0.         0.\n",
            "  0.         0.         0.         0.        ]\n",
            " [0.         0.         0.         0.         0.         0.\n",
            "  0.         0.         0.         0.         0.         0.\n",
            "  0.         0.         0.1882353  0.93333334 0.9882353  0.9882353\n",
            "  0.9882353  0.92941177 0.         0.         0.         0.\n",
            "  0.         0.         0.         0.        ]\n",
            " [0.         0.         0.         0.         0.         0.\n",
            "  0.         0.         0.         0.         0.         0.\n",
            "  0.         0.21176471 0.8901961  0.99215686 0.9882353  0.9372549\n",
            "  0.9137255  0.9882353  0.22352941 0.02352941 0.         0.\n",
            "  0.         0.         0.         0.        ]\n",
            " [0.         0.         0.         0.         0.         0.\n",
            "  0.         0.         0.         0.         0.         0.03921569\n",
            "  0.23529412 0.8784314  0.9882353  0.99215686 0.9882353  0.7921569\n",
            "  0.32941177 0.9882353  0.99215686 0.47843137 0.         0.\n",
            "  0.         0.         0.         0.        ]\n",
            " [0.         0.         0.         0.         0.         0.\n",
            "  0.         0.         0.         0.         0.         0.6392157\n",
            "  0.9882353  0.9882353  0.9882353  0.99215686 0.9882353  0.9882353\n",
            "  0.3764706  0.7411765  0.99215686 0.654902   0.         0.\n",
            "  0.         0.         0.         0.        ]\n",
            " [0.         0.         0.         0.         0.         0.\n",
            "  0.         0.         0.         0.         0.2        0.93333334\n",
            "  0.99215686 0.99215686 0.74509805 0.44705883 0.99215686 0.89411765\n",
            "  0.18431373 0.30980393 1.         0.65882355 0.         0.\n",
            "  0.         0.         0.         0.        ]\n",
            " [0.         0.         0.         0.         0.         0.\n",
            "  0.         0.         0.         0.1882353  0.93333334 0.9882353\n",
            "  0.9882353  0.7019608  0.04705882 0.29411766 0.4745098  0.08235294\n",
            "  0.         0.         0.99215686 0.9529412  0.19607843 0.\n",
            "  0.         0.         0.         0.        ]\n",
            " [0.         0.         0.         0.         0.         0.\n",
            "  0.         0.         0.14901961 0.64705884 0.99215686 0.9137255\n",
            "  0.8156863  0.32941177 0.         0.         0.         0.\n",
            "  0.         0.         0.99215686 0.9882353  0.64705884 0.\n",
            "  0.         0.         0.         0.        ]\n",
            " [0.         0.         0.         0.         0.         0.\n",
            "  0.         0.02745098 0.69803923 0.9882353  0.9411765  0.2784314\n",
            "  0.07450981 0.10980392 0.         0.         0.         0.\n",
            "  0.         0.         0.99215686 0.9882353  0.7647059  0.\n",
            "  0.         0.         0.         0.        ]\n",
            " [0.         0.         0.         0.         0.         0.\n",
            "  0.         0.22352941 0.9882353  0.9882353  0.24705882 0.\n",
            "  0.         0.         0.         0.         0.         0.\n",
            "  0.         0.         0.99215686 0.9882353  0.7647059  0.\n",
            "  0.         0.         0.         0.        ]\n",
            " [0.         0.         0.         0.         0.         0.\n",
            "  0.         0.7764706  0.99215686 0.74509805 0.         0.\n",
            "  0.         0.         0.         0.         0.         0.\n",
            "  0.         0.         1.         0.99215686 0.76862746 0.\n",
            "  0.         0.         0.         0.        ]\n",
            " [0.         0.         0.         0.         0.         0.\n",
            "  0.29803923 0.9647059  0.9882353  0.4392157  0.         0.\n",
            "  0.         0.         0.         0.         0.         0.\n",
            "  0.         0.         0.99215686 0.9882353  0.5803922  0.\n",
            "  0.         0.         0.         0.        ]\n",
            " [0.         0.         0.         0.         0.         0.\n",
            "  0.33333334 0.9882353  0.9019608  0.09803922 0.         0.\n",
            "  0.         0.         0.         0.         0.         0.\n",
            "  0.02745098 0.5294118  0.99215686 0.7294118  0.04705882 0.\n",
            "  0.         0.         0.         0.        ]\n",
            " [0.         0.         0.         0.         0.         0.\n",
            "  0.33333334 0.9882353  0.8745098  0.         0.         0.\n",
            "  0.         0.         0.         0.         0.         0.02745098\n",
            "  0.5137255  0.9882353  0.88235295 0.2784314  0.         0.\n",
            "  0.         0.         0.         0.        ]\n",
            " [0.         0.         0.         0.         0.         0.\n",
            "  0.33333334 0.9882353  0.5686275  0.         0.         0.\n",
            "  0.         0.         0.         0.         0.1882353  0.64705884\n",
            "  0.9882353  0.6784314  0.         0.         0.         0.\n",
            "  0.         0.         0.         0.        ]\n",
            " [0.         0.         0.         0.         0.         0.\n",
            "  0.3372549  0.99215686 0.88235295 0.         0.         0.\n",
            "  0.         0.         0.         0.44705883 0.93333334 0.99215686\n",
            "  0.63529414 0.         0.         0.         0.         0.\n",
            "  0.         0.         0.         0.        ]\n",
            " [0.         0.         0.         0.         0.         0.\n",
            "  0.33333334 0.9882353  0.9764706  0.57254905 0.1882353  0.11372549\n",
            "  0.33333334 0.69803923 0.88235295 0.99215686 0.8745098  0.654902\n",
            "  0.21960784 0.         0.         0.         0.         0.\n",
            "  0.         0.         0.         0.        ]\n",
            " [0.         0.         0.         0.         0.         0.\n",
            "  0.33333334 0.9882353  0.9882353  0.9882353  0.8980392  0.84313726\n",
            "  0.9882353  0.9882353  0.9882353  0.76862746 0.50980395 0.\n",
            "  0.         0.         0.         0.         0.         0.\n",
            "  0.         0.         0.         0.        ]\n",
            " [0.         0.         0.         0.         0.         0.\n",
            "  0.10980392 0.78039217 0.9882353  0.9882353  0.99215686 0.9882353\n",
            "  0.9882353  0.9137255  0.5686275  0.         0.         0.\n",
            "  0.         0.         0.         0.         0.         0.\n",
            "  0.         0.         0.         0.        ]\n",
            " [0.         0.         0.         0.         0.         0.\n",
            "  0.         0.09803922 0.5019608  0.9882353  0.99215686 0.9882353\n",
            "  0.5529412  0.14509805 0.         0.         0.         0.\n",
            "  0.         0.         0.         0.         0.         0.\n",
            "  0.         0.         0.         0.        ]\n",
            " [0.         0.         0.         0.         0.         0.\n",
            "  0.         0.         0.         0.         0.         0.\n",
            "  0.         0.         0.         0.         0.         0.\n",
            "  0.         0.         0.         0.         0.         0.\n",
            "  0.         0.         0.         0.        ]\n",
            " [0.         0.         0.         0.         0.         0.\n",
            "  0.         0.         0.         0.         0.         0.\n",
            "  0.         0.         0.         0.         0.         0.\n",
            "  0.         0.         0.         0.         0.         0.\n",
            "  0.         0.         0.         0.        ]\n",
            " [0.         0.         0.         0.         0.         0.\n",
            "  0.         0.         0.         0.         0.         0.\n",
            "  0.         0.         0.         0.         0.         0.\n",
            "  0.         0.         0.         0.         0.         0.\n",
            "  0.         0.         0.         0.        ]\n",
            " [0.         0.         0.         0.         0.         0.\n",
            "  0.         0.         0.         0.         0.         0.\n",
            "  0.         0.         0.         0.         0.         0.\n",
            "  0.         0.         0.         0.         0.         0.\n",
            "  0.         0.         0.         0.        ]]\n"
          ]
        }
      ],
      "source": [
        "print('Original matrix', X_train[1])\n",
        "X_train = X_train.astype('float32')\n",
        "X_test = X_test.astype('float32')\n",
        "X_train /= 255\n",
        "X_test /= 255\n",
        "print('Normalised matrix', X_train[1])"
      ]
    },
    {
      "cell_type": "markdown",
      "id": "b180e8bf",
      "metadata": {
        "id": "b180e8bf"
      },
      "source": [
        "Reshape the data - MLPs do not understand such things as '2D'.\n",
        "Reshape to 28 x 28 pixels = 784 features"
      ]
    },
    {
      "cell_type": "code",
      "execution_count": null,
      "id": "9c91ade4",
      "metadata": {
        "colab": {
          "base_uri": "https://localhost:8080/"
        },
        "id": "9c91ade4",
        "outputId": "64f6580a-fcd7-4c18-b04d-2939d309c60b"
      },
      "outputs": [
        {
          "output_type": "stream",
          "name": "stdout",
          "text": [
            "(60000, 784)\n"
          ]
        }
      ],
      "source": [
        "X_train = X_train.reshape(X_train.shape[0], feature_vector_length)\n",
        "X_test = X_test.reshape(X_test.shape[0], feature_vector_length)\n",
        "print(X_train.shape)"
      ]
    },
    {
      "cell_type": "markdown",
      "id": "5c7bd5be",
      "metadata": {
        "id": "5c7bd5be"
      },
      "source": [
        "## Convert target classes to categorical ones"
      ]
    },
    {
      "cell_type": "code",
      "execution_count": null,
      "id": "ff0e7930",
      "metadata": {
        "colab": {
          "base_uri": "https://localhost:8080/"
        },
        "id": "ff0e7930",
        "outputId": "5dd42740-3d71-441d-b5e9-d5bff18e6954"
      },
      "outputs": [
        {
          "output_type": "stream",
          "name": "stdout",
          "text": [
            "7\n",
            "[0. 0. 0. 0. 0. 0. 0. 1. 0. 0.]\n"
          ]
        }
      ],
      "source": [
        "print(Y_test[0])\n",
        "Y_train = to_categorical(Y_train, num_classes)\n",
        "Y_test = to_categorical(Y_test, num_classes)\n",
        "print(Y_test[0])"
      ]
    },
    {
      "cell_type": "markdown",
      "id": "8048b39c",
      "metadata": {
        "id": "8048b39c"
      },
      "source": [
        "## Set the input shape"
      ]
    },
    {
      "cell_type": "code",
      "execution_count": null,
      "id": "cd8a6b2c",
      "metadata": {
        "colab": {
          "base_uri": "https://localhost:8080/"
        },
        "id": "cd8a6b2c",
        "outputId": "b4034fec-7b90-48a1-a952-5b54724baef8"
      },
      "outputs": [
        {
          "output_type": "stream",
          "name": "stdout",
          "text": [
            "Feature shape: (784,)\n"
          ]
        }
      ],
      "source": [
        "input_shape = (feature_vector_length,)\n",
        "print(f'Feature shape: {input_shape}')"
      ]
    },
    {
      "cell_type": "markdown",
      "id": "b323c6d2",
      "metadata": {
        "id": "b323c6d2"
      },
      "source": [
        "## Create the model"
      ]
    },
    {
      "cell_type": "code",
      "execution_count": null,
      "id": "e45d6a6c",
      "metadata": {
        "id": "e45d6a6c"
      },
      "outputs": [],
      "source": [
        "model = Sequential()\n",
        "model.add(Dense(350, input_shape=input_shape, activation='relu'))\n",
        "model.add(Dense(50, activation='relu'))\n",
        "model.add(Dense(num_classes, activation='softmax'))"
      ]
    },
    {
      "cell_type": "markdown",
      "id": "289439b8",
      "metadata": {
        "id": "289439b8"
      },
      "source": [
        "### Configure the model and start training"
      ]
    },
    {
      "cell_type": "code",
      "execution_count": null,
      "id": "7148f94a",
      "metadata": {
        "colab": {
          "base_uri": "https://localhost:8080/"
        },
        "id": "7148f94a",
        "outputId": "75879a4a-05f9-49c6-b0cc-f77de44eca69"
      },
      "outputs": [
        {
          "output_type": "stream",
          "name": "stdout",
          "text": [
            "Model: \"sequential\"\n",
            "_________________________________________________________________\n",
            " Layer (type)                Output Shape              Param #   \n",
            "=================================================================\n",
            " dense (Dense)               (None, 350)               274750    \n",
            "                                                                 \n",
            " dense_1 (Dense)             (None, 50)                17550     \n",
            "                                                                 \n",
            " dense_2 (Dense)             (None, 10)                510       \n",
            "                                                                 \n",
            "=================================================================\n",
            "Total params: 292810 (1.12 MB)\n",
            "Trainable params: 292810 (1.12 MB)\n",
            "Non-trainable params: 0 (0.00 Byte)\n",
            "_________________________________________________________________\n"
          ]
        }
      ],
      "source": [
        "model.compile(loss='categorical_crossentropy', optimizer='adam', metrics=['accuracy'])\n",
        "#model.compile(loss='MeanSquaredError', optimizer='adam', metrics=['accuracy'])\n",
        "model.summary()"
      ]
    },
    {
      "cell_type": "code",
      "execution_count": null,
      "id": "3dec8b5b",
      "metadata": {
        "colab": {
          "base_uri": "https://localhost:8080/"
        },
        "id": "3dec8b5b",
        "outputId": "d303ed13-a50f-400b-ba84-8fab2a2dec57"
      },
      "outputs": [
        {
          "output_type": "stream",
          "name": "stdout",
          "text": [
            "Epoch 1/10\n",
            "192/192 [==============================] - 4s 14ms/step - loss: 0.3730 - accuracy: 0.8979 - val_loss: 0.1830 - val_accuracy: 0.9453\n",
            "Epoch 2/10\n",
            "192/192 [==============================] - 2s 13ms/step - loss: 0.1403 - accuracy: 0.9596 - val_loss: 0.1348 - val_accuracy: 0.9601\n",
            "Epoch 3/10\n",
            "192/192 [==============================] - 2s 13ms/step - loss: 0.0945 - accuracy: 0.9729 - val_loss: 0.1001 - val_accuracy: 0.9720\n",
            "Epoch 4/10\n",
            "192/192 [==============================] - 3s 18ms/step - loss: 0.0688 - accuracy: 0.9799 - val_loss: 0.0916 - val_accuracy: 0.9730\n",
            "Epoch 5/10\n",
            "192/192 [==============================] - 3s 14ms/step - loss: 0.0511 - accuracy: 0.9851 - val_loss: 0.0855 - val_accuracy: 0.9756\n",
            "Epoch 6/10\n",
            "192/192 [==============================] - 2s 13ms/step - loss: 0.0381 - accuracy: 0.9891 - val_loss: 0.0850 - val_accuracy: 0.9753\n",
            "Epoch 7/10\n",
            "192/192 [==============================] - 2s 13ms/step - loss: 0.0294 - accuracy: 0.9920 - val_loss: 0.0880 - val_accuracy: 0.9739\n",
            "Epoch 8/10\n",
            "192/192 [==============================] - 3s 17ms/step - loss: 0.0231 - accuracy: 0.9935 - val_loss: 0.0758 - val_accuracy: 0.9774\n",
            "Epoch 9/10\n",
            "192/192 [==============================] - 3s 17ms/step - loss: 0.0179 - accuracy: 0.9952 - val_loss: 0.0829 - val_accuracy: 0.9776\n",
            "Epoch 10/10\n",
            "192/192 [==============================] - 2s 12ms/step - loss: 0.0132 - accuracy: 0.9968 - val_loss: 0.0895 - val_accuracy: 0.9762\n"
          ]
        },
        {
          "output_type": "execute_result",
          "data": {
            "text/plain": [
              "<keras.src.callbacks.History at 0x7e3ee95cca90>"
            ]
          },
          "metadata": {},
          "execution_count": 10
        }
      ],
      "source": [
        "model.fit(X_train, Y_train, epochs=10, batch_size=250, verbose=1, validation_split=0.2)\n"
      ]
    },
    {
      "cell_type": "markdown",
      "id": "cedd2984",
      "metadata": {
        "id": "cedd2984"
      },
      "source": [
        "## Test the model after training"
      ]
    },
    {
      "cell_type": "code",
      "execution_count": null,
      "id": "3e729aec",
      "metadata": {
        "colab": {
          "base_uri": "https://localhost:8080/"
        },
        "id": "3e729aec",
        "outputId": "2cad2152-c904-4e6d-fa8d-d242290ce4ea"
      },
      "outputs": [
        {
          "output_type": "stream",
          "name": "stdout",
          "text": [
            "313/313 [==============================] - 1s 3ms/step - loss: 0.0767 - accuracy: 0.9773\n",
            "Test results - Loss: 0.07671204954385757 - Accuracy: 97.72999882698059%\n"
          ]
        }
      ],
      "source": [
        "test_results = model.evaluate(X_test, Y_test, verbose=1)\n",
        "print(f'Test results - Loss: {test_results[0]} - Accuracy: {test_results[1]*100}%')"
      ]
    },
    {
      "cell_type": "markdown",
      "id": "632003a4",
      "metadata": {
        "id": "632003a4"
      },
      "source": [
        "## Predict Individual Sample"
      ]
    },
    {
      "cell_type": "code",
      "execution_count": null,
      "id": "c58906bf",
      "metadata": {
        "id": "c58906bf"
      },
      "outputs": [],
      "source": [
        "temp = tf.keras.datasets.mnist.load_data()#input_data.read_data_sets('MNIST_data')\n",
        "mnist1 = {\n",
        "          'train': {\n",
        "                    'images':temp[0][0],\n",
        "                    'labels':temp[0][1]\n",
        "                   },\n",
        "           'test': {\n",
        "                    'images':temp[1][0],\n",
        "                    'labels':temp[1][1]\n",
        "                 }\n",
        "         }\n"
      ]
    },
    {
      "cell_type": "code",
      "execution_count": null,
      "id": "51732d0b",
      "metadata": {
        "colab": {
          "base_uri": "https://localhost:8080/",
          "height": 430
        },
        "id": "51732d0b",
        "outputId": "a802c8ba-e04c-469d-ec30-10d7743ef2de"
      },
      "outputs": [
        {
          "output_type": "display_data",
          "data": {
            "text/plain": [
              "<Figure size 640x480 with 1 Axes>"
            ],
            "image/png": "[encoded data removed]"
          },
          "metadata": {}
        }
      ],
      "source": [
        "first_image = mnist1['test']['images'][57]\n",
        "first_image = np.array(first_image, dtype='float')\n",
        "pixels = first_image.reshape((28, 28))\n",
        "plt.imshow(pixels, cmap='gray')\n",
        "plt.show()"
      ]
    },
    {
      "cell_type": "code",
      "execution_count": null,
      "id": "cf22b014",
      "metadata": {
        "colab": {
          "base_uri": "https://localhost:8080/"
        },
        "id": "cf22b014",
        "outputId": "fc6b4577-995e-439c-bbd4-41b80dea5854"
      },
      "outputs": [
        {
          "output_type": "stream",
          "name": "stdout",
          "text": [
            "1/1 [==============================] - 0s 163ms/step\n",
            "[[0. 1. 0. 0. 0. 0. 0. 0. 0. 0.]]\n",
            "1\n"
          ]
        }
      ],
      "source": [
        "pred = model.predict(mnist1['test']['images'][57].reshape(1,feature_vector_length), verbose=1)\n",
        "print(pred)\n",
        "print(np.argmax(pred))"
      ]
    },
    {
      "cell_type": "code",
      "execution_count": null,
      "id": "6adf92d5",
      "metadata": {
        "id": "6adf92d5"
      },
      "outputs": [],
      "source": []
    }
  ],
  "metadata": {
    "kernelspec": {
      "display_name": "Python 3",
      "language": "python",
      "name": "python3"
    },
    "language_info": {
      "codemirror_mode": {
        "name": "ipython",
        "version": 3
      },
      "file_extension": ".py",
      "mimetype": "text/x-python",
      "name": "python",
      "nbconvert_exporter": "python",
      "pygments_lexer": "ipython3",
      "version": "3.6.7"
    },
    "colab": {
      "provenance": []
    }
  },
  "nbformat": 4,
  "nbformat_minor": 5
}