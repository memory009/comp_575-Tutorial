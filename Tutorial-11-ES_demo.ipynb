{
  "nbformat": 4,
  "nbformat_minor": 0,
  "metadata": {
    "colab": {
      "provenance": []
    },
    "kernelspec": {
      "name": "python3",
      "display_name": "Python 3"
    },
    "language_info": {
      "name": "python"
    }
  },
  "cells": [
    {
      "cell_type": "code",
      "execution_count": 9,
      "metadata": {
        "id": "InF1JjIPmveW",
        "colab": {
          "base_uri": "https://localhost:8080/",
          "height": 35
        },
        "outputId": "7a89e73f-9902-410b-8638-4db03bf6e0db"
      },
      "outputs": [
        {
          "output_type": "execute_result",
          "data": {
            "text/plain": [
              "'3.7.1'"
            ],
            "application/vnd.google.colaboratory.intrinsic+json": {
              "type": "string"
            }
          },
          "metadata": {},
          "execution_count": 9
        }
      ],
      "source": [
        "import numpy as np\n",
        "from matplotlib import pyplot as plt\n",
        "from matplotlib.animation import FuncAnimation\n",
        "\n",
        "import matplotlib\n",
        "matplotlib.__version__"
      ]
    },
    {
      "cell_type": "code",
      "source": [
        "# function to minimise\n",
        "def my_fun(x):\n",
        "    return -((6*x -12)**2 - 2) / (2**(abs(6*x-13)))"
      ],
      "metadata": {
        "id": "McJgyzcHmyrJ"
      },
      "execution_count": 10,
      "outputs": []
    },
    {
      "cell_type": "code",
      "source": [
        "# checking if new position has better value and withing range [0,4]\n",
        "def fitter(n, m):\n",
        "    return n >= 0 and n <= 4 and my_fun(n) < my_fun(m)\n"
      ],
      "metadata": {
        "id": "nOLUYXp9m7jz"
      },
      "execution_count": 11,
      "outputs": []
    },
    {
      "cell_type": "code",
      "source": [
        "#fig initialisation\n",
        "x = np.linspace(-1, 5, 1000)\n",
        "y = my_fun(x)\n",
        "\n",
        "fig = plt.figure()\n",
        "ax = fig.add_subplot(xlim=(-1, 5), ylim=(-2, 3))\n",
        "ax.axvline(color=\"grey\")\n",
        "ax.axhline(color=\"grey\")\n",
        "ax.plot(x,y)\n",
        "\n",
        "#variables for the various elements of the figure\n",
        "p1, = ax.plot([],[], 'ko', lw=2) #current point with value\n",
        "p2, = ax.plot([],[], 'go', lw=2) #new and better point with value\n",
        "p3, = ax.plot([],[], 'ro', lw=2) #new but worse point with value\n",
        "line1, = ax.plot([],[], ',-', c='orange', lw=1.5) # line from current point to value\n",
        "line2, = ax.plot([],[], ',-', c='orange', lw=1.5) # line from new point to value\n",
        "text = ax.text(0.18, 0.9, '', transform=ax.transAxes) # printing current best point and value\n",
        "\n",
        "rng=np.random.default_rng()"
      ],
      "metadata": {
        "colab": {
          "base_uri": "https://localhost:8080/",
          "height": 435
        },
        "id": "rRFjEz5Tm-8I",
        "outputId": "4a3866f8-ac2b-4ffe-a939-a82edebf2393"
      },
      "execution_count": 12,
      "outputs": [
        {
          "output_type": "display_data",
          "data": {
            "text/plain": [
              "<Figure size 640x480 with 1 Axes>"
            ],
            "image/png": "[encoded data removed]"
          },
          "metadata": {}
        }
      ]
    },
    {
      "cell_type": "code",
      "source": [
        "#es algorithm\n",
        "niterations=200\n",
        "\n",
        "current_point=0\n",
        "mutations=[[current_point]]\n",
        "\n",
        "# generation of all the r vectors from the beginning\n",
        "# mean 0 - variance 0.5\n",
        "rs=rng.normal(0,.5,niterations-1)\n",
        "\n",
        "# a couple of variables to get some stats\n",
        "changes=0\n",
        "last_change=0\n",
        "\n",
        "for i in range(0,niterations-1):\n",
        "    new_point=current_point + rs[i]\n",
        "    mutations.append([current_point, new_point]) # to update the figure\n",
        "    if(fitter(new_point,current_point)):\n",
        "        last_change=i\n",
        "        changes += 1\n",
        "        current_point=new_point\n",
        "\n",
        "print('Best={0}, after {1} moves and {2} iterations'.format(current_point,changes, last_change))"
      ],
      "metadata": {
        "colab": {
          "base_uri": "https://localhost:8080/"
        },
        "id": "Sa6qFoccnNYY",
        "outputId": "fbc660df-4a3d-4b9f-beb2-5ff9a77b67c2"
      },
      "execution_count": 17,
      "outputs": [
        {
          "output_type": "stream",
          "name": "stdout",
          "text": [
            "Best=2.571561731754494, after 12 moves and 69 iterations\n"
          ]
        }
      ]
    },
    {
      "cell_type": "code",
      "source": [],
      "metadata": {
        "id": "8cVYoLRZ3yc0"
      },
      "execution_count": 21,
      "outputs": []
    },
    {
      "cell_type": "code",
      "source": [
        "# a bunch of code for the animation\n",
        "def init():\n",
        "    p1.set_data([], [])\n",
        "    p2.set_data([], [])\n",
        "    p3.set_data([], [])\n",
        "    line1.set_data([], [])\n",
        "    line2.set_data([], [])\n",
        "    text.set_text('Current best: {0}\\nValue: {1}'.format(0,my_fun(0)))\n",
        "    return text, line1, line2, p1, p2, p3,\n",
        "\n",
        "def animate(i):\n",
        "    if(i!=0):\n",
        "        point1=[mutations[i][0], my_fun(mutations[i][0])]\n",
        "        point2=[mutations[i][1], my_fun(mutations[i][1])]\n",
        "\n",
        "        xs1 = [point1[0] for i in range (0,50)]\n",
        "        ys1 = np.linspace(point1[1], 0, 50)\n",
        "\n",
        "        line1.set_data(xs1,ys1)\n",
        "\n",
        "        xs2 = [point2[0] for i in range (0,50)]\n",
        "        ys2 = np.linspace(point2[1], 0, 50)\n",
        "\n",
        "        line2.set_data(xs2,ys2)\n",
        "\n",
        "        p1.set_data([point1[0], point1[0]], [0, point1[1]])\n",
        "\n",
        "        p2.set_data([],[])\n",
        "        p3.set_data([],[])\n",
        "        if fitter(point2[0],point1[0]):\n",
        "            p2.set_data([point2[0], point2[0]],[0, point2[1]])\n",
        "        else:\n",
        "            p3.set_data([point2[0], point2[0]],[0, point2[1]])\n",
        "\n",
        "        text.set_text('Current best: {0}\\nValue: {1}'.format(point1[0],point1[1]))\n",
        "\n",
        "    else:\n",
        "        point=[mutations[i][0], my_fun(mutations[i][0])]\n",
        "\n",
        "        ys = np.linspace(point[1], 0, 50)\n",
        "        xs = [point[0] for i in range(0,50)]\n",
        "\n",
        "        line1.set_data(xs,ys)\n",
        "\n",
        "        p1.set_data([point[0], point[0]], [0, point[1]])\n",
        "\n",
        "        text.set_text('Current best: {0}\\nValue: {1}'.format(point[0],point[1]))\n",
        "    return text, line1, line2, p1, p2, p3,\n",
        "\n",
        "anim = FuncAnimation(fig, animate, init_func=init, frames=niterations, interval=500, blit=True, repeat=False)\n",
        "\n",
        "plt.show()"
      ],
      "metadata": {
        "id": "BWyASXJenVhk"
      },
      "execution_count": 14,
      "outputs": []
    },
    {
      "cell_type": "code",
      "source": [],
      "metadata": {
        "id": "aLbFmEPJ31QS"
      },
      "execution_count": 21,
      "outputs": []
    },
    {
      "cell_type": "markdown",
      "source": [
        "# New section"
      ],
      "metadata": {
        "id": "Fp5HAKQ05Tz-"
      }
    },
    {
      "cell_type": "code",
      "source": [
        "anim.save('1D_es_example.gif', writer='imagemagick')"
      ],
      "metadata": {
        "colab": {
          "base_uri": "https://localhost:8080/"
        },
        "id": "VLj2Xn54nwHz",
        "outputId": "317e2756-d29f-4cff-dd25-9dac6065df14"
      },
      "execution_count": 22,
      "outputs": [
        {
          "output_type": "stream",
          "name": "stderr",
          "text": [
            "WARNING:matplotlib.animation:MovieWriter imagemagick unavailable; using Pillow instead.\n"
          ]
        }
      ]
    }
  ]
}