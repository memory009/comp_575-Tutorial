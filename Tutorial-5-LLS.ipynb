{
 "cells": [
  {
   "cell_type": "code",
   "execution_count": 1,
   "metadata": {
    "id": "ZtjJJoNc_WaE"
   },
   "outputs": [],
   "source": [
    "import numpy as np\n",
    "import matplotlib.pyplot as plt"
   ]
  },
  {
   "cell_type": "code",
   "execution_count": 38,
   "metadata": {
    "colab": {
     "base_uri": "https://localhost:8080/"
    },
    "id": "6xno8E1uBXvi",
    "outputId": "c331d141-1f58-467c-ba40-d444716884e8"
   },
   "outputs": [
    {
     "data": {
      "text/plain": [
       "array([[9.67029839],\n",
       "       [5.47232249],\n",
       "       [9.7268436 ],\n",
       "       [7.14815994],\n",
       "       [6.97728825],\n",
       "       [2.16089496],\n",
       "       [9.76274455],\n",
       "       [0.06230255],\n",
       "       [2.52982362],\n",
       "       [4.34791532],\n",
       "       [7.79382922],\n",
       "       [1.97685075],\n",
       "       [8.62993236],\n",
       "       [9.83400677],\n",
       "       [1.63842241],\n",
       "       [5.97333944],\n",
       "       [0.08986098],\n",
       "       [3.86571283],\n",
       "       [0.44160058],\n",
       "       [9.56652968],\n",
       "       [4.36146647],\n",
       "       [9.48977307],\n",
       "       [7.86305986],\n",
       "       [8.66289299],\n",
       "       [1.73165421],\n",
       "       [0.74948587],\n",
       "       [6.00742721],\n",
       "       [1.67972184],\n",
       "       [7.33380168],\n",
       "       [4.0844386 ],\n",
       "       [5.27908823],\n",
       "       [9.37571584],\n",
       "       [5.21696122],\n",
       "       [1.08193383],\n",
       "       [1.58223407],\n",
       "       [5.45202652],\n",
       "       [5.2440408 ],\n",
       "       [6.37610244],\n",
       "       [4.01495444],\n",
       "       [6.49805109],\n",
       "       [3.96900003],\n",
       "       [6.23916114],\n",
       "       [7.67404967],\n",
       "       [1.7897391 ],\n",
       "       [3.75575769],\n",
       "       [5.02533059],\n",
       "       [6.8666708 ],\n",
       "       [2.53679649],\n",
       "       [5.54740863],\n",
       "       [6.24930844],\n",
       "       [8.95501166],\n",
       "       [3.62853588],\n",
       "       [6.37557073],\n",
       "       [1.91446402],\n",
       "       [4.97794115],\n",
       "       [1.82445405],\n",
       "       [9.18383039],\n",
       "       [4.31822071],\n",
       "       [8.30188102],\n",
       "       [4.16776305],\n",
       "       [9.04667589],\n",
       "       [4.04825217],\n",
       "       [3.31174503],\n",
       "       [5.7213877 ],\n",
       "       [8.45443649],\n",
       "       [8.61014312],\n",
       "       [5.95688117],\n",
       "       [0.84661611],\n",
       "       [5.97266607],\n",
       "       [2.45453709],\n",
       "       [7.32593449],\n",
       "       [8.94651292],\n",
       "       [5.14733971],\n",
       "       [6.0356351 ],\n",
       "       [0.65067812],\n",
       "       [5.4007473 ],\n",
       "       [1.29186784],\n",
       "       [6.14562846],\n",
       "       [3.63650347],\n",
       "       [7.67758034],\n",
       "       [0.48534136],\n",
       "       [1.09818118],\n",
       "       [6.84023215],\n",
       "       [5.14653697],\n",
       "       [5.71641372],\n",
       "       [8.43706994],\n",
       "       [4.87737639],\n",
       "       [8.10144422],\n",
       "       [5.10243629],\n",
       "       [9.26720693],\n",
       "       [6.66927772],\n",
       "       [1.48726839],\n",
       "       [3.64553175],\n",
       "       [8.65774916],\n",
       "       [3.50285211],\n",
       "       [1.89025759],\n",
       "       [4.72621309],\n",
       "       [3.92781175],\n",
       "       [6.18929927],\n",
       "       [4.36766292]])"
      ]
     },
     "execution_count": 38,
     "metadata": {},
     "output_type": "execute_result"
    }
   ],
   "source": [
    "np.random.seed(4) #Sets the seed of the random number generator\n",
    "\n",
    "#Problem definition:\n",
    "N = 100;\n",
    "x = 10*np.random.rand(N,1);\n",
    "x"
   ]
  },
  {
   "cell_type": "code",
   "execution_count": 39,
   "metadata": {
    "id": "RSjXvH1FFzq_"
   },
   "outputs": [],
   "source": [
    "ideal_a = -3;\n",
    "ideal_b = 12;\n",
    "\n",
    "d     = ideal_a*x+ideal_b;  #an ideal function\n",
    "s     = 4;                  #this is the standard deviation (variance is s^2)\n",
    "noise = s * np.random.randn(N,1);\n",
    "d     = d + noise;"
   ]
  },
  {
   "cell_type": "code",
   "execution_count": 40,
   "metadata": {
    "colab": {
     "base_uri": "https://localhost:8080/",
     "height": 430
    },
    "id": "qes_Era_GsVG",
    "outputId": "ca8db3e0-efcd-4f17-a7cb-63e40b1328d2"
   },
   "outputs": [
    {
     "data": {
      "image/png": "[encoded data removed]",
      "text/plain": [
       "<Figure size 432x288 with 1 Axes>"
      ]
     },
     "metadata": {
      "needs_background": "light"
     },
     "output_type": "display_data"
    }
   ],
   "source": [
    "plt.scatter(x, d,c='red')\n",
    "plt.show()"
   ]
  },
  {
   "cell_type": "code",
   "execution_count": 41,
   "metadata": {
    "id": "MfmWFJbEJf-j"
   },
   "outputs": [
    {
     "name": "stdout",
     "output_type": "stream",
     "text": [
      "(100, 2)\n"
     ]
    }
   ],
   "source": [
    "#We create matrix X and add a column with ones (representing the bias)\n",
    "xo= np.ones((N,1))\n",
    "X = np.concatenate((xo, x), axis=1)\n",
    "print(X.shape)\n",
    "w= np.matmul(np.linalg.pinv(X), d)"
   ]
  },
  {
   "cell_type": "code",
   "execution_count": 42,
   "metadata": {
    "colab": {
     "base_uri": "https://localhost:8080/"
    },
    "id": "0569my1JJ8YT",
    "outputId": "f8468575-2992-486d-a325-45bb7ff8eb5f"
   },
   "outputs": [
    {
     "name": "stdout",
     "output_type": "stream",
     "text": [
      "Fitting weights\n",
      "[[12.59687089]\n",
      " [-3.08106324]]\n",
      "(2, 1)\n",
      "Fitting error:\n",
      "[[1293.13742829]]\n"
     ]
    }
   ],
   "source": [
    "print('Fitting weights')\n",
    "print(w)\n",
    "print(w.shape)\n",
    "\n",
    "error = np.matmul((np.matmul(X,w)-d).T,(np.matmul(X,w)-d))\n",
    "print('Fitting error:')\n",
    "print(error)\n"
   ]
  },
  {
   "cell_type": "code",
   "execution_count": 43,
   "metadata": {
    "id": "7PBvZ_b4NVap"
   },
   "outputs": [],
   "source": [
    "#Best fit\n",
    "a= [ -1, 11]\n",
    "b= [ w[1][0]*a[0] + w[0][0], w[1][0]*a[1] + w[0][0] ]"
   ]
  },
  {
   "cell_type": "code",
   "execution_count": 44,
   "metadata": {
    "colab": {
     "base_uri": "https://localhost:8080/"
    },
    "id": "WXz0tKr7bSbu",
    "outputId": "99f19a83-8509-4609-c141-c3ae89772811"
   },
   "outputs": [
    {
     "data": {
      "text/plain": [
       "[15.677934130181026, -21.294824749051273]"
      ]
     },
     "execution_count": 44,
     "metadata": {},
     "output_type": "execute_result"
    }
   ],
   "source": [
    "b"
   ]
  },
  {
   "cell_type": "code",
   "execution_count": 45,
   "metadata": {
    "id": "-PtGiNCPQAY0"
   },
   "outputs": [],
   "source": [
    "#True curve\n",
    "a= [ -1, 11];\n",
    "b_true= [-ideal_a+ideal_b, ideal_a*11+ideal_b];"
   ]
  },
  {
   "cell_type": "code",
   "execution_count": 46,
   "metadata": {
    "colab": {
     "base_uri": "https://localhost:8080/",
     "height": 430
    },
    "id": "d7ZFGM0yOHVQ",
    "outputId": "4bfff84f-3257-4949-979a-a638295da90b"
   },
   "outputs": [
    {
     "data": {
      "image/png": "[encoded data removed]",
      "text/plain": [
       "<Figure size 432x288 with 1 Axes>"
      ]
     },
     "metadata": {
      "needs_background": "light"
     },
     "output_type": "display_data"
    }
   ],
   "source": [
    "plt.scatter(x, d,c='red')\n",
    "plt.plot(a, b, '--k')#, 'LineWidth', 2 )\n",
    "plt.plot(a, b_true, '-.b')#, 'LineWidth', 1.5 )\n",
    "plt.legend([\"True Curve\", \"Best Fit Curve\",\"Points\"])\n",
    "plt.show()"
   ]
  }
 ],
 "metadata": {
  "colab": {
   "provenance": []
  },
  "kernelspec": {
   "display_name": "Python 3",
   "language": "python",
   "name": "python3"
  },
  "language_info": {
   "codemirror_mode": {
    "name": "ipython",
    "version": 3
   },
   "file_extension": ".py",
   "mimetype": "text/x-python",
   "name": "python",
   "nbconvert_exporter": "python",
   "pygments_lexer": "ipython3",
   "version": "3.6.7"
  }
 },
 "nbformat": 4,
 "nbformat_minor": 1
}
